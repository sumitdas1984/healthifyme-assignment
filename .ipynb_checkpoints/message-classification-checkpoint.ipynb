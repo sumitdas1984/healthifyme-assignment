{
 "cells": [
  {
   "cell_type": "code",
   "execution_count": 40,
   "metadata": {},
   "outputs": [],
   "source": [
    "import pandas as pd\n",
    "import numpy as np\n",
    "import string\n",
    "\n",
    "from nltk.corpus import stopwords\n",
    "from nltk.tokenize import word_tokenize\n",
    "from sklearn.feature_extraction.text import CountVectorizer\n",
    "from sklearn.feature_extraction.text import TfidfTransformer\n",
    "from sklearn.linear_model import SGDClassifier\n",
    "from sklearn import metrics\n",
    "from sklearn.model_selection import train_test_split"
   ]
  },
  {
   "cell_type": "code",
   "execution_count": 41,
   "metadata": {},
   "outputs": [
    {
     "data": {
      "text/html": [
       "<div>\n",
       "<style>\n",
       "    .dataframe thead tr:only-child th {\n",
       "        text-align: right;\n",
       "    }\n",
       "\n",
       "    .dataframe thead th {\n",
       "        text-align: left;\n",
       "    }\n",
       "\n",
       "    .dataframe tbody tr th {\n",
       "        vertical-align: top;\n",
       "    }\n",
       "</style>\n",
       "<table border=\"1\" class=\"dataframe\">\n",
       "  <thead>\n",
       "    <tr style=\"text-align: right;\">\n",
       "      <th></th>\n",
       "      <th>message</th>\n",
       "      <th>category</th>\n",
       "    </tr>\n",
       "  </thead>\n",
       "  <tbody>\n",
       "    <tr>\n",
       "      <th>0</th>\n",
       "      <td>what are the pre and post workout stretches</td>\n",
       "      <td>workout related</td>\n",
       "    </tr>\n",
       "    <tr>\n",
       "      <th>1</th>\n",
       "      <td>How was my day today?</td>\n",
       "      <td>generic statement</td>\n",
       "    </tr>\n",
       "    <tr>\n",
       "      <th>2</th>\n",
       "      <td>How many glasses of water should I drink</td>\n",
       "      <td>diet related</td>\n",
       "    </tr>\n",
       "    <tr>\n",
       "      <th>3</th>\n",
       "      <td>How is my protien intake today?</td>\n",
       "      <td>diet related</td>\n",
       "    </tr>\n",
       "    <tr>\n",
       "      <th>4</th>\n",
       "      <td>Is Glass noodles better or wheat noodles?</td>\n",
       "      <td>diet related</td>\n",
       "    </tr>\n",
       "  </tbody>\n",
       "</table>\n",
       "</div>"
      ],
      "text/plain": [
       "                                       message           category\n",
       "0  what are the pre and post workout stretches    workout related\n",
       "1                        How was my day today?  generic statement\n",
       "2     How many glasses of water should I drink       diet related\n",
       "3              How is my protien intake today?       diet related\n",
       "4    Is Glass noodles better or wheat noodles?       diet related"
      ]
     },
     "execution_count": 41,
     "metadata": {},
     "output_type": "execute_result"
    }
   ],
   "source": [
    "data = pd.read_csv(\"message-data.csv\")\n",
    "data.head(5)"
   ]
  },
  {
   "cell_type": "code",
   "execution_count": 42,
   "metadata": {},
   "outputs": [
    {
     "data": {
      "text/html": [
       "<div>\n",
       "<style>\n",
       "    .dataframe thead tr:only-child th {\n",
       "        text-align: right;\n",
       "    }\n",
       "\n",
       "    .dataframe thead th {\n",
       "        text-align: left;\n",
       "    }\n",
       "\n",
       "    .dataframe tbody tr th {\n",
       "        vertical-align: top;\n",
       "    }\n",
       "</style>\n",
       "<table border=\"1\" class=\"dataframe\">\n",
       "  <thead>\n",
       "    <tr style=\"text-align: right;\">\n",
       "      <th></th>\n",
       "      <th>message</th>\n",
       "      <th>category</th>\n",
       "      <th>message-clean</th>\n",
       "    </tr>\n",
       "  </thead>\n",
       "  <tbody>\n",
       "    <tr>\n",
       "      <th>0</th>\n",
       "      <td>what are the pre and post workout stretches</td>\n",
       "      <td>workout related</td>\n",
       "      <td>pre post workout stretches</td>\n",
       "    </tr>\n",
       "    <tr>\n",
       "      <th>1</th>\n",
       "      <td>How was my day today?</td>\n",
       "      <td>generic statement</td>\n",
       "      <td>How day today</td>\n",
       "    </tr>\n",
       "    <tr>\n",
       "      <th>2</th>\n",
       "      <td>How many glasses of water should I drink</td>\n",
       "      <td>diet related</td>\n",
       "      <td>How many glasses water I drink</td>\n",
       "    </tr>\n",
       "    <tr>\n",
       "      <th>3</th>\n",
       "      <td>How is my protien intake today?</td>\n",
       "      <td>diet related</td>\n",
       "      <td>How protien intake today</td>\n",
       "    </tr>\n",
       "    <tr>\n",
       "      <th>4</th>\n",
       "      <td>Is Glass noodles better or wheat noodles?</td>\n",
       "      <td>diet related</td>\n",
       "      <td>Is Glass noodles better wheat noodles</td>\n",
       "    </tr>\n",
       "  </tbody>\n",
       "</table>\n",
       "</div>"
      ],
      "text/plain": [
       "                                       message           category  \\\n",
       "0  what are the pre and post workout stretches    workout related   \n",
       "1                        How was my day today?  generic statement   \n",
       "2     How many glasses of water should I drink       diet related   \n",
       "3              How is my protien intake today?       diet related   \n",
       "4    Is Glass noodles better or wheat noodles?       diet related   \n",
       "\n",
       "                           message-clean  \n",
       "0             pre post workout stretches  \n",
       "1                          How day today  \n",
       "2         How many glasses water I drink  \n",
       "3               How protien intake today  \n",
       "4  Is Glass noodles better wheat noodles  "
      ]
     },
     "execution_count": 42,
     "metadata": {},
     "output_type": "execute_result"
    }
   ],
   "source": [
    "stop_words = set(stopwords.words('english'))\n",
    "\n",
    "def remove_punctuation(cols):\n",
    "    text = cols[0]\n",
    "    return text.translate(None, string.punctuation)\n",
    "\n",
    "def remove_stopword(cols):\n",
    "    text = cols[0]\n",
    "    word_tokens = word_tokenize(text)\n",
    "    filtered_text = [w for w in word_tokens if not w in stop_words]\n",
    "    return \" \".join(filtered_text)\n",
    "\n",
    "# sample_text = \"This is a sample sentence, showing off the stop words filtration\"\n",
    "# filtered_text = remove_punctuation(sample_text)\n",
    "# print filtered_text\n",
    "# filtered_text = remove_stopword(filtered_text)\n",
    "# print filtered_text\n",
    "\n",
    "data['message-clean'] = data[['message']].apply(remove_punctuation, axis=1)\n",
    "data['message-clean'] = data[['message-clean']].apply(remove_stopword, axis=1)\n",
    "data.head(5)"
   ]
  },
  {
   "cell_type": "code",
   "execution_count": null,
   "metadata": {
    "collapsed": true
   },
   "outputs": [],
   "source": [
    "# # train, test = train_test_split(data, test_size = 0.2)\n",
    "\n",
    "# print \"training dataset: \" + str(len(train))\n",
    "# print \"test dataset: \" + str(len(test))"
   ]
  },
  {
   "cell_type": "code",
   "execution_count": 45,
   "metadata": {},
   "outputs": [
    {
     "name": "stdout",
     "output_type": "stream",
     "text": [
      "                                   message                     category  \\\n",
      "0                   antioxidant rich foods                 diet related   \n",
      "1                           this is cardio              workout related   \n",
      "2         Suggest me some foods with fibre                 diet related   \n",
      "3  how many calories should I take per day                 diet related   \n",
      "4    hi Dr can you tell me my ideal weight  fitness concern and queries   \n",
      "\n",
      "                  message-clean  \n",
      "0        antioxidant rich foods  \n",
      "1                        cardio  \n",
      "2           Suggest foods fibre  \n",
      "3  many calories I take per day  \n",
      "4       hi Dr tell ideal weight  \n",
      "                            message                category  \\\n",
      "0                              Help       generic statement   \n",
      "1  how much protein should I intake            diet related   \n",
      "2       I know coach is good enough  fitness expert related   \n",
      "3       Suggest me juice with honey            diet related   \n",
      "4                Dabeli vs vada pav            diet related   \n",
      "\n",
      "              message-clean  \n",
      "0                      Help  \n",
      "1     much protein I intake  \n",
      "2  I know coach good enough  \n",
      "3       Suggest juice honey  \n",
      "4        Dabeli vs vada pav  \n"
     ]
    }
   ],
   "source": [
    "# train, test = train_test_split(data, test_size = 0.2)\n",
    "\n",
    "# train.to_csv('message-data-train.csv', index=False)\n",
    "# test.to_csv('message-data-test.csv', index=False)\n",
    "\n",
    "train = pd.read_csv('message-data-train.csv')\n",
    "test = pd.read_csv('message-data-test.csv')\n",
    "\n",
    "print train.head(5)\n",
    "print test.head(5)"
   ]
  },
  {
   "cell_type": "code",
   "execution_count": 51,
   "metadata": {
    "collapsed": true
   },
   "outputs": [],
   "source": [
    "count_vect = CountVectorizer()\n",
    "tfidf_transformer = TfidfTransformer()\n",
    "clf= SGDClassifier(loss='hinge',penalty ='l2', alpha = 1e-4, n_iter=5)\n",
    "\n",
    "def train_message_classifier(data_train):\n",
    "    print \"message classification training started....\"\n",
    "    train_text = [i[0] for i in data_train[['message-clean']].values]\n",
    "    train_category = [i[0] for i in data_train[['category']].values]\n",
    "    \n",
    " \n",
    "    train_counts = count_vect.fit_transform(train_text)\n",
    "#     train_tfidf = tfidf_transformer.fit_transform(train_counts)\n",
    "#     clf.fit(train_tfidf, train_category)\n",
    "    print \"message classification training completed....\"\n",
    "\n",
    "    \n",
    "# def test_message_classifier(data_test):\n",
    "#     print \"message classification testing started....\"\n",
    "#     test_text = [i[0] for i in data_test[['message-clean']].values]\n",
    "#     test_category = [i[0] for i in data_test[['category']].values]\n",
    "        \n",
    "#     test_counts = count_vect.transform(test_text)\n",
    "#     test_tfidf = tfidf_transformer.transform(test_counts)\n",
    "#     predicted = clf.predict(test_tfidf)\n",
    "\n",
    "#     print \"Mean Accuracy :\"\n",
    "#     print np.mean(predicted == test_category)\n",
    "#     print \"Accuracy Score : \"\n",
    "#     print metrics.accuracy_score(test_category,predicted)\n",
    "\n",
    "#     print \"Classification report : \"\n",
    "#     print metrics.classification_report(test_category, predicted)\n",
    "#     print \"Confusion Matrix\"\n",
    "#     print metrics.confusion_matrix(test_category, predicted)\n",
    "\n",
    "#     print \"message classification testing completed....\"\n",
    "\n",
    "#     data_test_pred = data_test\n",
    "#     data_test_pred['predicted-category'] = predicted\n",
    "#     outputFile = 'message-data-test.csv'\n",
    "#     data_test_pred.to_csv(outputFile, index=False)"
   ]
  },
  {
   "cell_type": "code",
   "execution_count": 52,
   "metadata": {},
   "outputs": [
    {
     "data": {
      "text/html": [
       "<div>\n",
       "<style>\n",
       "    .dataframe thead tr:only-child th {\n",
       "        text-align: right;\n",
       "    }\n",
       "\n",
       "    .dataframe thead th {\n",
       "        text-align: left;\n",
       "    }\n",
       "\n",
       "    .dataframe tbody tr th {\n",
       "        vertical-align: top;\n",
       "    }\n",
       "</style>\n",
       "<table border=\"1\" class=\"dataframe\">\n",
       "  <thead>\n",
       "    <tr style=\"text-align: right;\">\n",
       "      <th></th>\n",
       "      <th>message</th>\n",
       "      <th>category</th>\n",
       "      <th>message-clean</th>\n",
       "    </tr>\n",
       "  </thead>\n",
       "  <tbody>\n",
       "    <tr>\n",
       "      <th>0</th>\n",
       "      <td>antioxidant rich foods</td>\n",
       "      <td>diet related</td>\n",
       "      <td>antioxidant rich foods</td>\n",
       "    </tr>\n",
       "    <tr>\n",
       "      <th>1</th>\n",
       "      <td>this is cardio</td>\n",
       "      <td>workout related</td>\n",
       "      <td>cardio</td>\n",
       "    </tr>\n",
       "    <tr>\n",
       "      <th>2</th>\n",
       "      <td>Suggest me some foods with fibre</td>\n",
       "      <td>diet related</td>\n",
       "      <td>Suggest foods fibre</td>\n",
       "    </tr>\n",
       "    <tr>\n",
       "      <th>3</th>\n",
       "      <td>how many calories should I take per day</td>\n",
       "      <td>diet related</td>\n",
       "      <td>many calories I take per day</td>\n",
       "    </tr>\n",
       "    <tr>\n",
       "      <th>4</th>\n",
       "      <td>hi Dr can you tell me my ideal weight</td>\n",
       "      <td>fitness concern and queries</td>\n",
       "      <td>hi Dr tell ideal weight</td>\n",
       "    </tr>\n",
       "  </tbody>\n",
       "</table>\n",
       "</div>"
      ],
      "text/plain": [
       "                                   message                     category  \\\n",
       "0                   antioxidant rich foods                 diet related   \n",
       "1                           this is cardio              workout related   \n",
       "2         Suggest me some foods with fibre                 diet related   \n",
       "3  how many calories should I take per day                 diet related   \n",
       "4    hi Dr can you tell me my ideal weight  fitness concern and queries   \n",
       "\n",
       "                  message-clean  \n",
       "0        antioxidant rich foods  \n",
       "1                        cardio  \n",
       "2           Suggest foods fibre  \n",
       "3  many calories I take per day  \n",
       "4       hi Dr tell ideal weight  "
      ]
     },
     "execution_count": 52,
     "metadata": {},
     "output_type": "execute_result"
    }
   ],
   "source": [
    "train.head(5)"
   ]
  },
  {
   "cell_type": "code",
   "execution_count": 53,
   "metadata": {},
   "outputs": [
    {
     "name": "stdout",
     "output_type": "stream",
     "text": [
      "message classification training started....\n",
      "['antioxidant rich foods', 'cardio', 'Suggest foods fibre', 'many calories I take per day', 'hi Dr tell ideal weight', 'much protein I intake daily', 'Looking diet sugar', 'much water I today', 'I want focus Diet', 'What PFCF consumption far', 'What beer sorbet', 'Suggest exercise', 'I dinner', 'day', 'suggest healthy dessert', 'keto diet advisable', 'I eat weight loss', 'Tell orange', 'could best time workout', 'many steps I walk daily', 'Healthy dinner suggestion', 'paleo diet', 'made healthifyme app', 'frequently I eat throughout day', 'green tea vs normal tea', 'Order', 'How day yesterday', 'When I check weight', 'Hi help', 'What kind dessert lowest fat content', 'I eat apple raw apple juice', 'Yes Suggest replacements Samosa', 'Importance working', 'I eat I office', 'hi', 'I 10 painful I workout', 'Order', 'connect coach', 'I eat Dosa idli', 'Suggest fried foods', 'often I workout', 'could help increase metabolic rate', 'day', 'How help', 'I eat I travel', 'show weight graph', 'help lose weight', 'How I become thin', 'Please show pfcf vada pav dabeli', 'I dont time follow workout plan', 'What jumping jacks', 'youre getting', 'Order', 'Yes Suggest workout Be Fitter', 'I sleep', 'suggest something lose belly fat', 'Which better Mango orange', 'Did I unhealthy foods yesterday', 'day', 'order', 'food logs today', 'Hey rua', 'reduce weight much I consume much I burn', 'What steps progress', 'understanding', 'send diet plan', 'Help today', 'I flax seeds diet', 'You stupid', 'How push ups', 'hi', 'Is chakli good health', 'connect coach', 'best protein sources', 'Is okay skip breakfast sometimes', 'Jalebi laddu', 'Suggest excercise', 'I eat rice dinner', 'much time I gain 10 kgs weight', 'What exercise I I want lose fat arms', 'I want focus Workout', 'acyclic benefits tea coffee', 'suggest options evening snacks', 'What difference curd yogurt', 'Pizza today', 'I eating pasta', 'cow milk vs buffalo milk', 'hyperthyroid', 'I rice dinner', 'Coconut water vs lemon juice', 'day yesterday', 'What I eat snack', 'day', 'I want lose 20 kgs weight', 'I eat', 'How push', 'much calories I burn', 'What I workout', 'I travelling Bombay', 'Is beer better orange juice', 'I workout', 'Post workout foods', 'Can suggest vegetarian options breakfast', 'Vitamin E rich food', 'orange mango', 'Give workout help meet goal', 'I cant drink night', 'How I motivate', 'pre post workout stretches', 'Order', 'suggest sugar free snack', 'calorie budget', 'How I become fit', 'Ya Tell exercise I easily', 'hi', 'Order', 'healthy five premium plans prices', 'How plank', 'healthy foods I yesterday', 'I check weight daily basis', 'I want talk customer support agent', 'much I sleep daily basis', 'Can I orange instead mango', 'I dinner', 'I painful nice I workout', 'Ideal bmi weight 80kgs', 'What exercise I flat tummy', 'I Hypothyroid hyperthyroid I eat', 'healthy foods I ate yesterday', 'You always give options', 'often I workout lose weight', 'Ya Tell exercise I easily', 'Can drink coke', 'Beer vs beer', 'Is poori better roti', 'premium plan help', 'able understand', 'I dinner today', 'How I push ups', 'I dont like cardio', 'I want lose weight', nan, 'I want vegetarian breakfast option', 'Order', 'I dont like swimming', 'How bmi looks like', 'Motivate workout', 'I reduce belly fat', 'vegetarian sources protein', 'Yes Suggest workout Be Fitter', 'I need lose weight', 'much protein I take', 'I snack', 'What I workout', 'help foods rich protein', 'high calorie foods I eat yesterday', 'hi help break macronutrients build muscles', 'I drink milk night', 'How protien intake today', 'send General diet plan', 'could suggest something diet', 'I go keto diet', 'suggest quick snack', 'I eating dinner', 'Suggest healthy drink right', 'I eat snacks', 'Can I get free consultation call', 'suggest workout', 'tell calorie count 1 Fried Chicken', 'I lazy workout', 'exercise I periods', 'much I workout day', 'many hours sleep I', 'How day today', 'much protein I daily', 'Hello', 'What exercise I order flat tummy', 'I fond skipping', 'Can I speak coach', 'I want reduce fat', 'Idli dosa', 'Did I unhealthy foods today', 'I try eating whole chicken grill dinner today', 'I dont like Baingan Bharta', 'How lose weight', 'I want lose weight I want healthy', 'I eat dinner', 'understanding', 'understanding', 'understanding', 'name', 'I eat snacks', 'walking 1 hour day help lose weight', 'Coconut water lime water', 'Beer better red wine', 'Tell idli', 'Bmi height 180cm', 'tell premium plans', 'Healthy foods I today', 'Give high protein dinner suggestion', 'What healthy snacks would suggest', 'biscuit good health', 'tell strength exercises', 'unhealthy foods I yesterday', 'healthy foods I yesterday', 'I talk coach', 'I eat dinner', 'I eat today', 'Motivate', 'I want know diet activity', 'exercises I I want lose 10 kgs', 'give directions feel energetic', 'unhealthy foods I yesterday', 'How I plank', 'Suggest snack', 'day', 'walking help reduce weight', 'Hey Amadeus', 'hi Ria many steps I take day', 'How I gain weight', 'What ideal bmi', 'I hundred squats', 'Motivate workout', 'paneer', 'I eat lose belly fat', 'tell protein sources', 'Who', 'What unhealthy foods I yesterdaym', 'protein progress yesterday', 'hello', 'I increase protein intake', 'How I sleep better', 'I unable lose weight', 'help', 'playing football week help reduce weight', 'I build muscles without lifting weights']\n",
      "message classification training completed....\n"
     ]
    }
   ],
   "source": [
    "train_message_classifier(train)\n",
    "# test_message_classifier(test)"
   ]
  },
  {
   "cell_type": "code",
   "execution_count": null,
   "metadata": {
    "collapsed": true
   },
   "outputs": [],
   "source": []
  }
 ],
 "metadata": {
  "kernelspec": {
   "display_name": "Python 2",
   "language": "python",
   "name": "python2"
  },
  "language_info": {
   "codemirror_mode": {
    "name": "ipython",
    "version": 2
   },
   "file_extension": ".py",
   "mimetype": "text/x-python",
   "name": "python",
   "nbconvert_exporter": "python",
   "pygments_lexer": "ipython2",
   "version": "2.7.12"
  }
 },
 "nbformat": 4,
 "nbformat_minor": 2
}
