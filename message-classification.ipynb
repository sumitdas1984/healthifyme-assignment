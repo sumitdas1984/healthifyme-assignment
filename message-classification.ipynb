{
 "cells": [
  {
   "cell_type": "code",
   "execution_count": 2,
   "metadata": {
    "collapsed": true
   },
   "outputs": [],
   "source": [
    "import pandas as pd\n",
    "import numpy as np\n",
    "import string\n",
    "\n",
    "from nltk.corpus import stopwords\n",
    "from nltk.tokenize import word_tokenize\n",
    "from sklearn.feature_extraction.text import CountVectorizer\n",
    "from sklearn.feature_extraction.text import TfidfTransformer\n",
    "from sklearn.linear_model import SGDClassifier\n",
    "from sklearn import metrics\n",
    "from sklearn.model_selection import train_test_split"
   ]
  },
  {
   "cell_type": "markdown",
   "metadata": {},
   "source": [
    "## Reading the message dataset\n",
    "The first thing we are going to do is to read in the dataset using the Pandas read_csv() function. We will put this data into a Pandas DataFrame, called \"message_data\"."
   ]
  },
  {
   "cell_type": "code",
   "execution_count": 14,
   "metadata": {
    "scrolled": true
   },
   "outputs": [
    {
     "data": {
      "text/html": [
       "<div>\n",
       "<style>\n",
       "    .dataframe thead tr:only-child th {\n",
       "        text-align: right;\n",
       "    }\n",
       "\n",
       "    .dataframe thead th {\n",
       "        text-align: left;\n",
       "    }\n",
       "\n",
       "    .dataframe tbody tr th {\n",
       "        vertical-align: top;\n",
       "    }\n",
       "</style>\n",
       "<table border=\"1\" class=\"dataframe\">\n",
       "  <thead>\n",
       "    <tr style=\"text-align: right;\">\n",
       "      <th></th>\n",
       "      <th>message</th>\n",
       "      <th>category</th>\n",
       "    </tr>\n",
       "  </thead>\n",
       "  <tbody>\n",
       "    <tr>\n",
       "      <th>0</th>\n",
       "      <td>what are the pre and post workout stretches</td>\n",
       "      <td>workout related</td>\n",
       "    </tr>\n",
       "    <tr>\n",
       "      <th>1</th>\n",
       "      <td>How was my day today?</td>\n",
       "      <td>generic statement</td>\n",
       "    </tr>\n",
       "    <tr>\n",
       "      <th>2</th>\n",
       "      <td>How many glasses of water should I drink</td>\n",
       "      <td>diet related</td>\n",
       "    </tr>\n",
       "    <tr>\n",
       "      <th>3</th>\n",
       "      <td>How is my protien intake today?</td>\n",
       "      <td>diet related</td>\n",
       "    </tr>\n",
       "    <tr>\n",
       "      <th>4</th>\n",
       "      <td>Is Glass noodles better or wheat noodles?</td>\n",
       "      <td>diet related</td>\n",
       "    </tr>\n",
       "  </tbody>\n",
       "</table>\n",
       "</div>"
      ],
      "text/plain": [
       "                                       message           category\n",
       "0  what are the pre and post workout stretches    workout related\n",
       "1                        How was my day today?  generic statement\n",
       "2     How many glasses of water should I drink       diet related\n",
       "3              How is my protien intake today?       diet related\n",
       "4    Is Glass noodles better or wheat noodles?       diet related"
      ]
     },
     "execution_count": 14,
     "metadata": {},
     "output_type": "execute_result"
    }
   ],
   "source": [
    "message_data = pd.read_csv(\"message-data.csv\")\n",
    "message_data.head(5)"
   ]
  },
  {
   "cell_type": "code",
   "execution_count": 15,
   "metadata": {},
   "outputs": [
    {
     "data": {
      "text/plain": [
       "diet related                     142\n",
       "workout related                   64\n",
       "generic statement                 44\n",
       "fitness concern and queries       30\n",
       "fitness expert related             8\n",
       "plan and subscription related      7\n",
       "Name: category, dtype: int64"
      ]
     },
     "execution_count": 15,
     "metadata": {},
     "output_type": "execute_result"
    }
   ],
   "source": [
    "message_data['category'].value_counts()"
   ]
  },
  {
   "cell_type": "markdown",
   "metadata": {},
   "source": [
    "## Data Description:\n",
    "Message - Message text sent by the user\n",
    "\n",
    "category - Target classification category of the mesaage. I have manually tagged the category for this dataset. The categories are as below\n",
    "- diet related\n",
    "- workout related\n",
    "- fitness expert related\n",
    "- plan and subscription related\n",
    "- fitness concern and queries\n",
    "- generic statement"
   ]
  },
  {
   "cell_type": "markdown",
   "metadata": {},
   "source": [
    "## Removing punctuations and stopwords from the message text saving the clean text in message-clean column of the dataframe"
   ]
  },
  {
   "cell_type": "code",
   "execution_count": 5,
   "metadata": {
    "scrolled": true
   },
   "outputs": [
    {
     "data": {
      "text/html": [
       "<div>\n",
       "<style>\n",
       "    .dataframe thead tr:only-child th {\n",
       "        text-align: right;\n",
       "    }\n",
       "\n",
       "    .dataframe thead th {\n",
       "        text-align: left;\n",
       "    }\n",
       "\n",
       "    .dataframe tbody tr th {\n",
       "        vertical-align: top;\n",
       "    }\n",
       "</style>\n",
       "<table border=\"1\" class=\"dataframe\">\n",
       "  <thead>\n",
       "    <tr style=\"text-align: right;\">\n",
       "      <th></th>\n",
       "      <th>message</th>\n",
       "      <th>category</th>\n",
       "      <th>message-clean</th>\n",
       "    </tr>\n",
       "  </thead>\n",
       "  <tbody>\n",
       "    <tr>\n",
       "      <th>0</th>\n",
       "      <td>what are the pre and post workout stretches</td>\n",
       "      <td>workout related</td>\n",
       "      <td>pre post workout stretches</td>\n",
       "    </tr>\n",
       "    <tr>\n",
       "      <th>1</th>\n",
       "      <td>How was my day today?</td>\n",
       "      <td>generic statement</td>\n",
       "      <td>How day today</td>\n",
       "    </tr>\n",
       "    <tr>\n",
       "      <th>2</th>\n",
       "      <td>How many glasses of water should I drink</td>\n",
       "      <td>diet related</td>\n",
       "      <td>How many glasses water I drink</td>\n",
       "    </tr>\n",
       "    <tr>\n",
       "      <th>3</th>\n",
       "      <td>How is my protien intake today?</td>\n",
       "      <td>diet related</td>\n",
       "      <td>How protien intake today</td>\n",
       "    </tr>\n",
       "    <tr>\n",
       "      <th>4</th>\n",
       "      <td>Is Glass noodles better or wheat noodles?</td>\n",
       "      <td>diet related</td>\n",
       "      <td>Is Glass noodles better wheat noodles</td>\n",
       "    </tr>\n",
       "  </tbody>\n",
       "</table>\n",
       "</div>"
      ],
      "text/plain": [
       "                                       message           category  \\\n",
       "0  what are the pre and post workout stretches    workout related   \n",
       "1                        How was my day today?  generic statement   \n",
       "2     How many glasses of water should I drink       diet related   \n",
       "3              How is my protien intake today?       diet related   \n",
       "4    Is Glass noodles better or wheat noodles?       diet related   \n",
       "\n",
       "                           message-clean  \n",
       "0             pre post workout stretches  \n",
       "1                          How day today  \n",
       "2         How many glasses water I drink  \n",
       "3               How protien intake today  \n",
       "4  Is Glass noodles better wheat noodles  "
      ]
     },
     "execution_count": 5,
     "metadata": {},
     "output_type": "execute_result"
    }
   ],
   "source": [
    "stop_words = set(stopwords.words('english'))\n",
    "\n",
    "# removing punctuations \n",
    "def remove_punctuation(cols):\n",
    "    text = cols[0]\n",
    "    return text.translate(None, string.punctuation)\n",
    "\n",
    "# removing stopwords \n",
    "def remove_stopword(cols):\n",
    "    text = cols[0]\n",
    "    word_tokens = word_tokenize(text)\n",
    "    filtered_text = [w for w in word_tokens if not w in stop_words]\n",
    "    return \" \".join(filtered_text)\n",
    "\n",
    "# sample_text = \"This is a sample sentence, showing off the stop words filtration\"\n",
    "# filtered_text = remove_punctuation(sample_text)\n",
    "# print filtered_text\n",
    "# filtered_text = remove_stopword(filtered_text)\n",
    "# print filtered_text\n",
    "\n",
    "# putting the clean text in 'message-clean' column\n",
    "message_data['message-clean'] = message_data[['message']].apply(remove_punctuation, axis=1)\n",
    "message_data['message-clean'] = message_data[['message-clean']].apply(remove_stopword, axis=1)\n",
    "message_data.head(5)"
   ]
  },
  {
   "cell_type": "markdown",
   "metadata": {},
   "source": [
    "## Training the message clasifier model and testing the trained model"
   ]
  },
  {
   "cell_type": "code",
   "execution_count": 6,
   "metadata": {
    "collapsed": true
   },
   "outputs": [],
   "source": [
    "# transforning the clean message text to tf-idf matrix\n",
    "count_vect = CountVectorizer()\n",
    "tfidf_transformer = TfidfTransformer()\n",
    "# Stochastic Gradient Decent used to build the classifier model\n",
    "clf= SGDClassifier(loss='hinge',penalty ='l2', alpha = 1e-4, n_iter=5)\n",
    "\n",
    "# training the model\n",
    "def train_message_classifier(data_train):\n",
    "    print \"message classification training started....\"\n",
    "    train_text = [i[0] for i in data_train[['message-clean']].values]\n",
    "    train_category = [i[0] for i in data_train[['category']].values]\n",
    "    \n",
    "    train_counts = count_vect.fit_transform(train_text)\n",
    "    train_tfidf = tfidf_transformer.fit_transform(train_counts)\n",
    "    clf.fit(train_tfidf, train_category)\n",
    "    print \"message classification training completed....\"\n",
    "\n",
    "# testing the model   \n",
    "def test_message_classifier(data_test):\n",
    "    print \"message classification testing started....\"\n",
    "    test_text = [i[0] for i in data_test[['message-clean']].values]\n",
    "    test_category = [i[0] for i in data_test[['category']].values]\n",
    "        \n",
    "    test_counts = count_vect.transform(test_text)\n",
    "    test_tfidf = tfidf_transformer.transform(test_counts)\n",
    "    predicted = clf.predict(test_tfidf)\n",
    "\n",
    "    # printing the performance of the classifier on test data\n",
    "    print \"Mean Accuracy :\"\n",
    "    print np.mean(predicted == test_category)\n",
    "    print \"Accuracy Score : \"\n",
    "    print metrics.accuracy_score(test_category,predicted)\n",
    "\n",
    "    print \"Classification report : \"\n",
    "    print metrics.classification_report(test_category, predicted)\n",
    "    print \"Confusion Matrix\"\n",
    "    print metrics.confusion_matrix(test_category, predicted)\n",
    "\n",
    "    print \"message classification testing completed....\""
   ]
  },
  {
   "cell_type": "code",
   "execution_count": 7,
   "metadata": {},
   "outputs": [
    {
     "name": "stdout",
     "output_type": "stream",
     "text": [
      "training dataset: 236\n",
      "test dataset: 59\n",
      "message classification training started....\n",
      "message classification training completed....\n",
      "message classification testing started....\n",
      "Mean Accuracy :\n",
      "0.796610169492\n",
      "Accuracy Score : \n",
      "0.796610169492\n",
      "Classification report : \n",
      "                               precision    recall  f1-score   support\n",
      "\n",
      "                 diet related       0.82      0.97      0.89        29\n",
      "  fitness concern and queries       0.86      0.67      0.75         9\n",
      "       fitness expert related       0.00      0.00      0.00         1\n",
      "            generic statement       1.00      0.73      0.84        11\n",
      "plan and subscription related       0.00      0.00      0.00         1\n",
      "              workout related       0.56      0.62      0.59         8\n",
      "\n",
      "                  avg / total       0.80      0.80      0.79        59\n",
      "\n",
      "Confusion Matrix\n",
      "[[28  0  0  0  1  0]\n",
      " [ 0  6  0  0  0  3]\n",
      " [ 0  0  0  0  0  1]\n",
      " [ 3  0  0  8  0  0]\n",
      " [ 0  1  0  0  0  0]\n",
      " [ 3  0  0  0  0  5]]\n",
      "message classification testing completed....\n"
     ]
    },
    {
     "name": "stderr",
     "output_type": "stream",
     "text": [
      "/home/administrator/.local/lib/python2.7/site-packages/sklearn/metrics/classification.py:1113: UndefinedMetricWarning: Precision and F-score are ill-defined and being set to 0.0 in labels with no predicted samples.\n",
      "  'precision', 'predicted', average, warn_for)\n"
     ]
    }
   ],
   "source": [
    "# Random splitting of the dataset to training and test\n",
    "train, test = train_test_split(message_data, test_size = 0.2)\n",
    "\n",
    "print \"training dataset: \" + str(len(train))\n",
    "print \"test dataset: \" + str(len(test))\n",
    "\n",
    "train_message_classifier(train)\n",
    "test_message_classifier(test)"
   ]
  },
  {
   "cell_type": "code",
   "execution_count": null,
   "metadata": {
    "collapsed": true
   },
   "outputs": [],
   "source": []
  }
 ],
 "metadata": {
  "kernelspec": {
   "display_name": "Python 2",
   "language": "python",
   "name": "python2"
  },
  "language_info": {
   "codemirror_mode": {
    "name": "ipython",
    "version": 2
   },
   "file_extension": ".py",
   "mimetype": "text/x-python",
   "name": "python",
   "nbconvert_exporter": "python",
   "pygments_lexer": "ipython2",
   "version": "2.7.12"
  }
 },
 "nbformat": 4,
 "nbformat_minor": 2
}
